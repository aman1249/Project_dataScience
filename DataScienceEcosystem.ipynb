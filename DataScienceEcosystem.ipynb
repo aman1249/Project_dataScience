{
 "cells": [
  {
   "cell_type": "markdown",
   "id": "4178c0ec",
   "metadata": {},
   "source": [
    "Data Science Tools and Ecosystem "
   ]
  },
  {
   "cell_type": "markdown",
   "id": "17b074a0",
   "metadata": {},
   "source": [
    "In this notebook many markdowncell methods and Data science ecosystem will be demonstrated \n"
   ]
  },
  {
   "cell_type": "markdown",
   "id": "83c5705a",
   "metadata": {},
   "source": [
    "**Objectives:**\n",
    "* Data science languages\n",
    "* Environments suitable for Data science\n",
    "* Languages used in the field of Data science "
   ]
  },
  {
   "cell_type": "markdown",
   "id": "dff2eb92",
   "metadata": {},
   "source": [
    "Some of the popular languages that Data Scientists use are:-\n",
    "1. python\n",
    "2. julia\n",
    "3.  R"
   ]
  },
  {
   "cell_type": "markdown",
   "id": "fe5217a5",
   "metadata": {},
   "source": [
    "Some of the commonly used libraries used by Data Scientists include:\n",
    "1. pandas\n",
    "2. numpy\n",
    "3. tensorflow\n",
    "4. seaborn\n",
    "5. matplot lib"
   ]
  },
  {
   "cell_type": "markdown",
   "id": "96526779",
   "metadata": {},
   "source": [
    "|Data Science Tools|\n",
    "---\n",
    "|visual studio|\n",
    "|R labs|\n",
    "| thonny |\n",
    "|spyder|"
   ]
  },
  {
   "cell_type": "markdown",
   "id": "eccfcc41",
   "metadata": {},
   "source": [
    "### Below are a few examples of evaluating arithmetic expressions in Python\n",
    "1. For addition ( + )\n",
    "2. For subtraction ( - )\n",
    "3. For multiplication ( * )\n",
    "4. For division ( / )\n",
    "5. for Modulo ( % )"
   ]
  },
  {
   "cell_type": "code",
   "execution_count": 1,
   "id": "7d591fff",
   "metadata": {},
   "outputs": [
    {
     "data": {
      "text/plain": [
       "17"
      ]
     },
     "execution_count": 1,
     "metadata": {},
     "output_type": "execute_result"
    }
   ],
   "source": [
    "#Here first (3 * 4) will be evaluated which will be (12) and we'll add 5 so the answer will be (17)\n",
    "\n",
    "(3*4)+5"
   ]
  },
  {
   "cell_type": "code",
   "execution_count": null,
   "id": "a32399b1",
   "metadata": {},
   "outputs": [],
   "source": []
  },
  {
   "cell_type": "code",
   "execution_count": 2,
   "id": "f5b061a1",
   "metadata": {},
   "outputs": [
    {
     "data": {
      "text/plain": [
       "3.3333333333333335"
      ]
     },
     "execution_count": 2,
     "metadata": {},
     "output_type": "execute_result"
    }
   ],
   "source": [
    "# To covert minutes to hours we will divide minutes by 60 because 1 hour is made of 60 minutes\n",
    "\n",
    "200/60"
   ]
  },
  {
   "cell_type": "markdown",
   "id": "c0523473",
   "metadata": {},
   "source": [
    "## Author: \n",
    "Purab Patel"
   ]
  },
  {
   "cell_type": "code",
   "execution_count": null,
   "id": "942a0c91",
   "metadata": {},
   "outputs": [],
   "source": []
  }
 ],
 "metadata": {
  "kernelspec": {
   "display_name": "Python 3 (ipykernel)",
   "language": "python",
   "name": "python3"
  },
  "language_info": {
   "codemirror_mode": {
    "name": "ipython",
    "version": 3
   },
   "file_extension": ".py",
   "mimetype": "text/x-python",
   "name": "python",
   "nbconvert_exporter": "python",
   "pygments_lexer": "ipython3",
   "version": "3.11.5"
  }
 },
 "nbformat": 4,
 "nbformat_minor": 5
}
